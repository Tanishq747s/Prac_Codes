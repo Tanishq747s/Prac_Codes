{
 "cells": [
  {
   "cell_type": "code",
   "execution_count": 1,
   "id": "104d2c9d",
   "metadata": {},
   "outputs": [],
   "source": [
    "import numpy as np\n",
    "import pandas as pd\n",
    "import matplotlib.pyplot as plt\n",
    "from sklearn.preprocessing import MinMaxScaler\n",
    "from tensorflow.keras.models import Sequential\n",
    "from tensorflow.keras.layers import LSTM, Dense"
   ]
  },
  {
   "cell_type": "code",
   "execution_count": 3,
   "id": "ef8403fc",
   "metadata": {},
   "outputs": [],
   "source": [
    "# Load and Preprocess the Data\n",
    "\n",
    "# Load the Google stock prices dataset\n",
    "data = pd.read_csv(\"stock_prices.csv\")"
   ]
  },
  {
   "cell_type": "code",
   "execution_count": 4,
   "id": "d2a26db5",
   "metadata": {},
   "outputs": [],
   "source": [
    "# Preprocess the data\n",
    "data['Date'] = pd.to_datetime(data['Date'])\n",
    "prices = data['Close'].values.reshape(-1, 1)  # Reshape for MinMaxScaler\n",
    "scaler = MinMaxScaler(feature_range=(0, 1))\n",
    "prices_scaled = scaler.fit_transform(prices)"
   ]
  },
  {
   "cell_type": "code",
   "execution_count": 5,
   "id": "258d1218",
   "metadata": {},
   "outputs": [],
   "source": [
    "# Prepare the Data for RNN\n",
    "\n",
    "# Convert time series data into sequences\n",
    "def create_sequences(data, seq_length):\n",
    "    X, y = [], []\n",
    "    for i in range(len(data) - seq_length):\n",
    "        X.append(data[i:i+seq_length])\n",
    "        y.append(data[i+seq_length])\n",
    "    return np.array(X), np.array(y)"
   ]
  },
  {
   "cell_type": "code",
   "execution_count": 6,
   "id": "a16b7392",
   "metadata": {},
   "outputs": [],
   "source": [
    "seq_length = 10  # Number of time steps to look back\n",
    "X, y = create_sequences(prices_scaled, seq_length)"
   ]
  },
  {
   "cell_type": "code",
   "execution_count": 7,
   "id": "0b169c58",
   "metadata": {},
   "outputs": [],
   "source": [
    "# Split the dataset into training and testing sets\n",
    "train_size = int(len(X) * 0.8)\n",
    "X_train, X_test = X[:train_size], X[train_size:]\n",
    "y_train, y_test = y[:train_size], y[train_size:]"
   ]
  },
  {
   "cell_type": "code",
   "execution_count": 8,
   "id": "765aa5a0",
   "metadata": {},
   "outputs": [],
   "source": [
    "# Build the RNN Model\n",
    "\n",
    "model = Sequential([\n",
    "    LSTM(50, activation='tanh', input_shape=(seq_length, 1)),\n",
    "    Dense(1)\n",
    "])\n",
    "\n",
    "model.compile(optimizer='adam', loss='mean_squared_error')"
   ]
  },
  {
   "cell_type": "code",
   "execution_count": 9,
   "id": "f761fe90",
   "metadata": {},
   "outputs": [
    {
     "name": "stdout",
     "output_type": "stream",
     "text": [
      "Epoch 1/50\n",
      "13/13 [==============================] - 3s 48ms/step - loss: 0.1990 - val_loss: 0.1451\n",
      "Epoch 2/50\n",
      "13/13 [==============================] - 0s 6ms/step - loss: 0.0160 - val_loss: 0.0105\n",
      "Epoch 3/50\n",
      "13/13 [==============================] - 0s 8ms/step - loss: 0.0096 - val_loss: 0.0113\n",
      "Epoch 4/50\n",
      "13/13 [==============================] - 0s 6ms/step - loss: 0.0050 - val_loss: 0.0057\n",
      "Epoch 5/50\n",
      "13/13 [==============================] - 0s 7ms/step - loss: 0.0026 - val_loss: 0.0020\n",
      "Epoch 6/50\n",
      "13/13 [==============================] - 0s 6ms/step - loss: 0.0016 - val_loss: 0.0021\n",
      "Epoch 7/50\n",
      "13/13 [==============================] - 0s 5ms/step - loss: 0.0011 - val_loss: 0.0024\n",
      "Epoch 8/50\n",
      "13/13 [==============================] - 0s 9ms/step - loss: 9.1045e-04 - val_loss: 0.0022\n",
      "Epoch 9/50\n",
      "13/13 [==============================] - 0s 7ms/step - loss: 8.5434e-04 - val_loss: 0.0026\n",
      "Epoch 10/50\n",
      "13/13 [==============================] - 0s 8ms/step - loss: 8.3873e-04 - val_loss: 0.0026\n",
      "Epoch 11/50\n",
      "13/13 [==============================] - 0s 8ms/step - loss: 8.3662e-04 - val_loss: 0.0026\n",
      "Epoch 12/50\n",
      "13/13 [==============================] - 0s 7ms/step - loss: 8.6128e-04 - val_loss: 0.0030\n",
      "Epoch 13/50\n",
      "13/13 [==============================] - 0s 7ms/step - loss: 8.3960e-04 - val_loss: 0.0023\n",
      "Epoch 14/50\n",
      "13/13 [==============================] - 0s 7ms/step - loss: 8.2453e-04 - val_loss: 0.0027\n",
      "Epoch 15/50\n",
      "13/13 [==============================] - 0s 8ms/step - loss: 8.2858e-04 - val_loss: 0.0023\n",
      "Epoch 16/50\n",
      "13/13 [==============================] - 0s 8ms/step - loss: 8.0144e-04 - val_loss: 0.0025\n",
      "Epoch 17/50\n",
      "13/13 [==============================] - 0s 8ms/step - loss: 7.9564e-04 - val_loss: 0.0025\n",
      "Epoch 18/50\n",
      "13/13 [==============================] - 0s 7ms/step - loss: 7.9379e-04 - val_loss: 0.0024\n",
      "Epoch 19/50\n",
      "13/13 [==============================] - 0s 7ms/step - loss: 7.8811e-04 - val_loss: 0.0025\n",
      "Epoch 20/50\n",
      "13/13 [==============================] - 0s 8ms/step - loss: 7.9919e-04 - val_loss: 0.0028\n",
      "Epoch 21/50\n",
      "13/13 [==============================] - 0s 8ms/step - loss: 7.8017e-04 - val_loss: 0.0022\n",
      "Epoch 22/50\n",
      "13/13 [==============================] - 0s 7ms/step - loss: 7.7363e-04 - val_loss: 0.0026\n",
      "Epoch 23/50\n",
      "13/13 [==============================] - 0s 6ms/step - loss: 7.7449e-04 - val_loss: 0.0024\n",
      "Epoch 24/50\n",
      "13/13 [==============================] - 0s 5ms/step - loss: 7.6754e-04 - val_loss: 0.0022\n",
      "Epoch 25/50\n",
      "13/13 [==============================] - 0s 6ms/step - loss: 7.7004e-04 - val_loss: 0.0027\n",
      "Epoch 26/50\n",
      "13/13 [==============================] - 0s 6ms/step - loss: 7.7356e-04 - val_loss: 0.0022\n",
      "Epoch 27/50\n",
      "13/13 [==============================] - 0s 7ms/step - loss: 7.5657e-04 - val_loss: 0.0023\n",
      "Epoch 28/50\n",
      "13/13 [==============================] - 0s 8ms/step - loss: 7.5237e-04 - val_loss: 0.0022\n",
      "Epoch 29/50\n",
      "13/13 [==============================] - 0s 7ms/step - loss: 7.6772e-04 - val_loss: 0.0025\n",
      "Epoch 30/50\n",
      "13/13 [==============================] - 0s 6ms/step - loss: 7.8716e-04 - val_loss: 0.0028\n",
      "Epoch 31/50\n",
      "13/13 [==============================] - 0s 8ms/step - loss: 7.6956e-04 - val_loss: 0.0022\n",
      "Epoch 32/50\n",
      "13/13 [==============================] - 0s 9ms/step - loss: 7.3972e-04 - val_loss: 0.0021\n",
      "Epoch 33/50\n",
      "13/13 [==============================] - 0s 7ms/step - loss: 7.5171e-04 - val_loss: 0.0030\n",
      "Epoch 34/50\n",
      "13/13 [==============================] - 0s 6ms/step - loss: 8.3056e-04 - val_loss: 0.0021\n",
      "Epoch 35/50\n",
      "13/13 [==============================] - 0s 5ms/step - loss: 7.4650e-04 - val_loss: 0.0019\n",
      "Epoch 36/50\n",
      "13/13 [==============================] - 0s 6ms/step - loss: 7.4853e-04 - val_loss: 0.0027\n",
      "Epoch 37/50\n",
      "13/13 [==============================] - 0s 7ms/step - loss: 7.9380e-04 - val_loss: 0.0025\n",
      "Epoch 38/50\n",
      "13/13 [==============================] - 0s 6ms/step - loss: 7.8673e-04 - val_loss: 0.0019\n",
      "Epoch 39/50\n",
      "13/13 [==============================] - 0s 5ms/step - loss: 7.5302e-04 - val_loss: 0.0023\n",
      "Epoch 40/50\n",
      "13/13 [==============================] - 0s 5ms/step - loss: 7.3967e-04 - val_loss: 0.0025\n",
      "Epoch 41/50\n",
      "13/13 [==============================] - 0s 6ms/step - loss: 7.9210e-04 - val_loss: 0.0019\n",
      "Epoch 42/50\n",
      "13/13 [==============================] - 0s 6ms/step - loss: 7.7765e-04 - val_loss: 0.0019\n",
      "Epoch 43/50\n",
      "13/13 [==============================] - 0s 6ms/step - loss: 7.4771e-04 - val_loss: 0.0025\n",
      "Epoch 44/50\n",
      "13/13 [==============================] - 0s 7ms/step - loss: 7.1015e-04 - val_loss: 0.0019\n",
      "Epoch 45/50\n",
      "13/13 [==============================] - 0s 8ms/step - loss: 7.5889e-04 - val_loss: 0.0021\n",
      "Epoch 46/50\n",
      "13/13 [==============================] - 0s 7ms/step - loss: 7.5770e-04 - val_loss: 0.0022\n",
      "Epoch 47/50\n",
      "13/13 [==============================] - 0s 7ms/step - loss: 7.0521e-04 - val_loss: 0.0020\n",
      "Epoch 48/50\n",
      "13/13 [==============================] - 0s 6ms/step - loss: 7.1136e-04 - val_loss: 0.0024\n",
      "Epoch 49/50\n",
      "13/13 [==============================] - 0s 6ms/step - loss: 7.0451e-04 - val_loss: 0.0020\n",
      "Epoch 50/50\n",
      "13/13 [==============================] - 0s 7ms/step - loss: 7.1021e-04 - val_loss: 0.0020\n"
     ]
    }
   ],
   "source": [
    "# Train the RNN Model\n",
    "\n",
    "epochs = 50\n",
    "batch_size = 32\n",
    "\n",
    "history = model.fit(X_train, y_train, epochs=epochs, batch_size=batch_size, validation_split=0.2)"
   ]
  },
  {
   "cell_type": "code",
   "execution_count": 10,
   "id": "b09ff24f",
   "metadata": {},
   "outputs": [
    {
     "name": "stdout",
     "output_type": "stream",
     "text": [
      "4/4 [==============================] - 0s 7ms/step - loss: 0.0027\n",
      "Test Loss: 0.0026619061827659607\n"
     ]
    }
   ],
   "source": [
    "# Evaluate the RNN Model\n",
    "\n",
    "loss = model.evaluate(X_test, y_test)\n",
    "print(\"Test Loss:\", loss)"
   ]
  },
  {
   "cell_type": "code",
   "execution_count": 11,
   "id": "c3a62c09",
   "metadata": {},
   "outputs": [
    {
     "name": "stdout",
     "output_type": "stream",
     "text": [
      "1/1 [==============================] - 0s 379ms/step\n",
      "1/1 [==============================] - 0s 24ms/step\n",
      "1/1 [==============================] - 0s 29ms/step\n",
      "1/1 [==============================] - 0s 16ms/step\n",
      "1/1 [==============================] - 0s 26ms/step\n",
      "1/1 [==============================] - 0s 23ms/step\n",
      "1/1 [==============================] - 0s 34ms/step\n",
      "1/1 [==============================] - 0s 25ms/step\n",
      "1/1 [==============================] - 0s 23ms/step\n",
      "1/1 [==============================] - 0s 16ms/step\n",
      "1/1 [==============================] - 0s 9ms/step\n",
      "1/1 [==============================] - 0s 27ms/step\n",
      "1/1 [==============================] - 0s 16ms/step\n",
      "1/1 [==============================] - 0s 8ms/step\n",
      "1/1 [==============================] - 0s 16ms/step\n",
      "1/1 [==============================] - 0s 8ms/step\n",
      "1/1 [==============================] - 0s 16ms/step\n",
      "1/1 [==============================] - 0s 15ms/step\n",
      "1/1 [==============================] - 0s 8ms/step\n",
      "1/1 [==============================] - 0s 16ms/step\n",
      "1/1 [==============================] - 0s 16ms/step\n",
      "1/1 [==============================] - 0s 16ms/step\n",
      "1/1 [==============================] - 0s 16ms/step\n",
      "1/1 [==============================] - 0s 16ms/step\n",
      "1/1 [==============================] - 0s 16ms/step\n",
      "1/1 [==============================] - 0s 29ms/step\n",
      "1/1 [==============================] - 0s 24ms/step\n",
      "1/1 [==============================] - 0s 16ms/step\n",
      "1/1 [==============================] - 0s 24ms/step\n",
      "1/1 [==============================] - 0s 16ms/step\n"
     ]
    }
   ],
   "source": [
    "# Prediction\n",
    "\n",
    "# Make predictions on future time steps\n",
    "future_steps = 30\n",
    "forecast = []\n",
    "\n",
    "last_sequence = X[-1]\n",
    "for _ in range(future_steps):\n",
    "    pred = model.predict(last_sequence.reshape(1, seq_length, 1))[0][0]\n",
    "    forecast.append(pred)\n",
    "    last_sequence = np.roll(last_sequence, -1)\n",
    "    last_sequence[-1] = pred\n"
   ]
  },
  {
   "cell_type": "code",
   "execution_count": 12,
   "id": "854db498",
   "metadata": {},
   "outputs": [
    {
     "data": {
      "image/png": "[encoded data removed]",
      "text/plain": [
       "<Figure size 640x480 with 1 Axes>"
      ]
     },
     "metadata": {},
     "output_type": "display_data"
    }
   ],
   "source": [
    "# Inverse transform the scaled forecasted prices\n",
    "forecast = scaler.inverse_transform(np.array(forecast).reshape(-1, 1))\n",
    "\n",
    "# Plot the forecasted prices\n",
    "plt.plot(data['Date'][-30:], data['Close'][-30:], label='Actual Prices')\n",
    "plt.plot(pd.date_range(start=data['Date'].iloc[-1], periods=future_steps), forecast, label='Forecasted Prices')\n",
    "plt.xlabel('Date')\n",
    "plt.ylabel('Closing Price')\n",
    "plt.title('Google Stock Prices Forecast')\n",
    "plt.legend()\n",
    "plt.show()"
   ]
  },
  {
   "cell_type": "code",
   "execution_count": null,
   "id": "52aca7e4",
   "metadata": {},
   "outputs": [],
   "source": []
  }
 ],
 "metadata": {
  "kernelspec": {
   "display_name": "Python 3 (ipykernel)",
   "language": "python",
   "name": "python3"
  },
  "language_info": {
   "codemirror_mode": {
    "name": "ipython",
    "version": 3
   },
   "file_extension": ".py",
   "mimetype": "text/x-python",
   "name": "python",
   "nbconvert_exporter": "python",
   "pygments_lexer": "ipython3",
   "version": "3.9.13"
  }
 },
 "nbformat": 4,
 "nbformat_minor": 5
}
